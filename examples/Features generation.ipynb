{
 "cells": [
  {
   "cell_type": "markdown",
   "metadata": {},
   "source": [
    "Just a small notebook to show how to generates features for a network. It is pretty easy with our modules but it can takes a lot of times. To see all the details of our implementation, you can look at the files in the library folder. All have been commented and explained."
   ]
  },
  {
   "cell_type": "markdown",
   "metadata": {},
   "source": [
    "# Importing the library"
   ]
  },
  {
   "cell_type": "code",
   "execution_count": 1,
   "metadata": {},
   "outputs": [],
   "source": [
    "# Loading the library to python \n",
    "import sys\n",
    "sys.path.insert(0, \"../anomaly_detection/\")"
   ]
  },
  {
   "cell_type": "code",
   "execution_count": 3,
   "metadata": {},
   "outputs": [],
   "source": [
    "# Functions from the library\n",
    "from features import build_feats\n",
    "from generation import generate_network"
   ]
  },
  {
   "cell_type": "markdown",
   "metadata": {},
   "source": [
    "# Generating your network with anomalies"
   ]
  },
  {
   "cell_type": "code",
   "execution_count": 4,
   "metadata": {},
   "outputs": [
    {
     "name": "stdout",
     "output_type": "stream",
     "text": [
      "Generating a network...\n",
      "Anomalies inserted\n",
      "A network has been generated.\n",
      "\n"
     ]
    }
   ],
   "source": [
    "G, df_anomalies = generate_network(w = 0.8, p = 0.1, n = 200)"
   ]
  },
  {
   "cell_type": "markdown",
   "metadata": {},
   "source": [
    "# Building your features"
   ]
  },
  {
   "cell_type": "markdown",
   "metadata": {},
   "source": [
    "Uses all the module describes in the paper to generate the features of a network. It can takes sometime when a network is big. If you want to use your own network just provide it as a NetworkX class."
   ]
  },
  {
   "cell_type": "code",
   "execution_count": 5,
   "metadata": {},
   "outputs": [
    {
     "name": "stdout",
     "output_type": "stream",
     "text": [
      "GAW has been computed !                                                    \n",
      "\n",
      "Compute community features :\n",
      "\tAugmentation of the network...\n",
      "\tBuilding partition...\n",
      "\tCompute full network GAW...\n",
      "\tGenerate density distribution...\n",
      "\tINFO : Nodes [] are isolated and will be ignored.\n",
      "Community features have been computed !                                         \n",
      "\n",
      "Computing localisation feats for lower_rw :\n",
      "Done.                                                       \n",
      "\n",
      "Computing localisation feats for upper_comb :\n",
      "Done.                                                       \n",
      "\n",
      "Computing localisation feats for upper_sym :\n",
      "Done.                                                       \n",
      "\n",
      "Computing localisation feats for lower_sym :\n",
      "Done.                                                       \n",
      "\n",
      "Localisation features have been computed !\n",
      "\n",
      "The node level statistics has been computed for 15 graphs.\n",
      "The node level statistics has been computed for 200 graphs.\n",
      "Compute net EMD 200 / 200 of the null set.   \n",
      "The p-value of each statistics has been computed.\n",
      "\n",
      "The features for the Net EMD (3.4) have been created.\n",
      "Features for path finder (3.5) inserted.\n"
     ]
    }
   ],
   "source": [
    "df = build_feats(G)"
   ]
  },
  {
   "cell_type": "markdown",
   "metadata": {},
   "source": [
    "# Use your features"
   ]
  },
  {
   "cell_type": "code",
   "execution_count": 6,
   "metadata": {},
   "outputs": [
    {
     "data": {
      "text/html": [
       "<div>\n",
       "<style scoped>\n",
       "    .dataframe tbody tr th:only-of-type {\n",
       "        vertical-align: middle;\n",
       "    }\n",
       "\n",
       "    .dataframe tbody tr th {\n",
       "        vertical-align: top;\n",
       "    }\n",
       "\n",
       "    .dataframe thead th {\n",
       "        text-align: right;\n",
       "    }\n",
       "</style>\n",
       "<table border=\"1\" class=\"dataframe\">\n",
       "  <thead>\n",
       "    <tr style=\"text-align: right;\">\n",
       "      <th></th>\n",
       "      <th>GAW_1</th>\n",
       "      <th>GAW_0.1</th>\n",
       "      <th>GAW_0.2</th>\n",
       "      <th>com_density_rel</th>\n",
       "      <th>com_density_penalized</th>\n",
       "      <th>com_density_pvalue</th>\n",
       "      <th>com_score</th>\n",
       "      <th>com_very_small</th>\n",
       "      <th>com_GAW_rel</th>\n",
       "      <th>com_GAW_penalized</th>\n",
       "      <th>...</th>\n",
       "      <th>path_size_12</th>\n",
       "      <th>path_size_13</th>\n",
       "      <th>path_size_14</th>\n",
       "      <th>path_size_15</th>\n",
       "      <th>path_size_16</th>\n",
       "      <th>path_size_17</th>\n",
       "      <th>path_size_18</th>\n",
       "      <th>path_size_19</th>\n",
       "      <th>path_size_20</th>\n",
       "      <th>path_size_21</th>\n",
       "    </tr>\n",
       "  </thead>\n",
       "  <tbody>\n",
       "    <tr>\n",
       "      <th>0</th>\n",
       "      <td>0.0</td>\n",
       "      <td>0.0</td>\n",
       "      <td>0.0</td>\n",
       "      <td>1.229418</td>\n",
       "      <td>0.021197</td>\n",
       "      <td>0.047619</td>\n",
       "      <td>1.668391</td>\n",
       "      <td>0.0</td>\n",
       "      <td>1.685052</td>\n",
       "      <td>0.029053</td>\n",
       "      <td>...</td>\n",
       "      <td>0.0</td>\n",
       "      <td>0.0</td>\n",
       "      <td>0.00000</td>\n",
       "      <td>0.000000</td>\n",
       "      <td>0.000000</td>\n",
       "      <td>0.00000</td>\n",
       "      <td>0.000000</td>\n",
       "      <td>0.00000</td>\n",
       "      <td>0.000000</td>\n",
       "      <td>0.000000</td>\n",
       "    </tr>\n",
       "    <tr>\n",
       "      <th>1</th>\n",
       "      <td>0.0</td>\n",
       "      <td>0.0</td>\n",
       "      <td>0.0</td>\n",
       "      <td>1.673442</td>\n",
       "      <td>0.069727</td>\n",
       "      <td>0.571429</td>\n",
       "      <td>0.000000</td>\n",
       "      <td>0.0</td>\n",
       "      <td>0.904421</td>\n",
       "      <td>0.037684</td>\n",
       "      <td>...</td>\n",
       "      <td>0.0</td>\n",
       "      <td>0.0</td>\n",
       "      <td>1.00099</td>\n",
       "      <td>0.960838</td>\n",
       "      <td>1.287214</td>\n",
       "      <td>0.88485</td>\n",
       "      <td>1.232341</td>\n",
       "      <td>1.41042</td>\n",
       "      <td>1.132497</td>\n",
       "      <td>1.086568</td>\n",
       "    </tr>\n",
       "    <tr>\n",
       "      <th>2</th>\n",
       "      <td>0.0</td>\n",
       "      <td>0.0</td>\n",
       "      <td>0.0</td>\n",
       "      <td>1.330357</td>\n",
       "      <td>0.032448</td>\n",
       "      <td>0.047619</td>\n",
       "      <td>1.668391</td>\n",
       "      <td>0.0</td>\n",
       "      <td>1.562306</td>\n",
       "      <td>0.038105</td>\n",
       "      <td>...</td>\n",
       "      <td>0.0</td>\n",
       "      <td>0.0</td>\n",
       "      <td>0.00000</td>\n",
       "      <td>0.000000</td>\n",
       "      <td>0.000000</td>\n",
       "      <td>0.00000</td>\n",
       "      <td>0.000000</td>\n",
       "      <td>0.00000</td>\n",
       "      <td>0.000000</td>\n",
       "      <td>0.000000</td>\n",
       "    </tr>\n",
       "    <tr>\n",
       "      <th>3</th>\n",
       "      <td>0.0</td>\n",
       "      <td>0.0</td>\n",
       "      <td>0.0</td>\n",
       "      <td>1.229418</td>\n",
       "      <td>0.021197</td>\n",
       "      <td>0.047619</td>\n",
       "      <td>1.668391</td>\n",
       "      <td>0.0</td>\n",
       "      <td>1.074634</td>\n",
       "      <td>0.018528</td>\n",
       "      <td>...</td>\n",
       "      <td>0.0</td>\n",
       "      <td>0.0</td>\n",
       "      <td>0.00000</td>\n",
       "      <td>0.000000</td>\n",
       "      <td>0.000000</td>\n",
       "      <td>0.00000</td>\n",
       "      <td>0.000000</td>\n",
       "      <td>0.00000</td>\n",
       "      <td>0.000000</td>\n",
       "      <td>0.000000</td>\n",
       "    </tr>\n",
       "    <tr>\n",
       "      <th>4</th>\n",
       "      <td>0.0</td>\n",
       "      <td>0.0</td>\n",
       "      <td>0.0</td>\n",
       "      <td>1.229418</td>\n",
       "      <td>0.021197</td>\n",
       "      <td>0.047619</td>\n",
       "      <td>1.668391</td>\n",
       "      <td>0.0</td>\n",
       "      <td>1.076595</td>\n",
       "      <td>0.018562</td>\n",
       "      <td>...</td>\n",
       "      <td>0.0</td>\n",
       "      <td>0.0</td>\n",
       "      <td>0.00000</td>\n",
       "      <td>0.000000</td>\n",
       "      <td>0.000000</td>\n",
       "      <td>0.00000</td>\n",
       "      <td>0.000000</td>\n",
       "      <td>0.00000</td>\n",
       "      <td>0.000000</td>\n",
       "      <td>0.000000</td>\n",
       "    </tr>\n",
       "  </tbody>\n",
       "</table>\n",
       "<p>5 rows × 89 columns</p>\n",
       "</div>"
      ],
      "text/plain": [
       "   GAW_1  GAW_0.1  GAW_0.2  com_density_rel  com_density_penalized  \\\n",
       "0    0.0      0.0      0.0         1.229418               0.021197   \n",
       "1    0.0      0.0      0.0         1.673442               0.069727   \n",
       "2    0.0      0.0      0.0         1.330357               0.032448   \n",
       "3    0.0      0.0      0.0         1.229418               0.021197   \n",
       "4    0.0      0.0      0.0         1.229418               0.021197   \n",
       "\n",
       "   com_density_pvalue  com_score  com_very_small  com_GAW_rel  \\\n",
       "0            0.047619   1.668391             0.0     1.685052   \n",
       "1            0.571429   0.000000             0.0     0.904421   \n",
       "2            0.047619   1.668391             0.0     1.562306   \n",
       "3            0.047619   1.668391             0.0     1.074634   \n",
       "4            0.047619   1.668391             0.0     1.076595   \n",
       "\n",
       "   com_GAW_penalized      ...       path_size_12  path_size_13  path_size_14  \\\n",
       "0           0.029053      ...                0.0           0.0       0.00000   \n",
       "1           0.037684      ...                0.0           0.0       1.00099   \n",
       "2           0.038105      ...                0.0           0.0       0.00000   \n",
       "3           0.018528      ...                0.0           0.0       0.00000   \n",
       "4           0.018562      ...                0.0           0.0       0.00000   \n",
       "\n",
       "   path_size_15  path_size_16  path_size_17  path_size_18  path_size_19  \\\n",
       "0      0.000000      0.000000       0.00000      0.000000       0.00000   \n",
       "1      0.960838      1.287214       0.88485      1.232341       1.41042   \n",
       "2      0.000000      0.000000       0.00000      0.000000       0.00000   \n",
       "3      0.000000      0.000000       0.00000      0.000000       0.00000   \n",
       "4      0.000000      0.000000       0.00000      0.000000       0.00000   \n",
       "\n",
       "   path_size_20  path_size_21  \n",
       "0      0.000000      0.000000  \n",
       "1      1.132497      1.086568  \n",
       "2      0.000000      0.000000  \n",
       "3      0.000000      0.000000  \n",
       "4      0.000000      0.000000  \n",
       "\n",
       "[5 rows x 89 columns]"
      ]
     },
     "execution_count": 6,
     "metadata": {},
     "output_type": "execute_result"
    }
   ],
   "source": [
    "df.head()"
   ]
  }
 ],
 "metadata": {
  "kernelspec": {
   "display_name": "Python 3",
   "language": "python",
   "name": "python3"
  },
  "language_info": {
   "codemirror_mode": {
    "name": "ipython",
    "version": 3
   },
   "file_extension": ".py",
   "mimetype": "text/x-python",
   "name": "python",
   "nbconvert_exporter": "python",
   "pygments_lexer": "ipython3",
   "version": "3.6.8"
  }
 },
 "nbformat": 4,
 "nbformat_minor": 2
}
